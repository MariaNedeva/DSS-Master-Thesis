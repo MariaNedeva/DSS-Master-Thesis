{
 "cells": [
  {
   "cell_type": "code",
   "execution_count": null,
   "metadata": {},
   "outputs": [],
   "source": [
    "#import libraries\n",
    "import pandas as pd\n",
    "import numpy as np"
   ]
  },
  {
   "cell_type": "code",
   "execution_count": null,
   "metadata": {},
   "outputs": [],
   "source": [
    "data = pd.read_csv(r'Thesis\\data\\\\once_daily.csv')"
   ]
  },
  {
   "attachments": {},
   "cell_type": "markdown",
   "metadata": {},
   "source": [
    "Impute missing data with KNN"
   ]
  },
  {
   "cell_type": "code",
   "execution_count": null,
   "metadata": {},
   "outputs": [],
   "source": [
    "from sklearn.impute import KNNImputer\n",
    "\n",
    "\n",
    "\n",
    "# Create an instance of the KNNImputer with nearest neighbors = 5\n",
    "imputer = KNNImputer(n_neighbors=5)\n",
    "\n",
    "# Perform KNN imputation on the numeric columns\n",
    "data_numeric_imputed = imputer.fit_transform(data)\n",
    "\n",
    "# Combine the imputed numeric columns with the original date columns\n",
    "\n",
    "data1 = pd.DataFrame(data_numeric_imputed, columns=data.columns)"
   ]
  },
  {
   "attachments": {},
   "cell_type": "markdown",
   "metadata": {},
   "source": [
    "Features Engineering"
   ]
  },
  {
   "attachments": {},
   "cell_type": "markdown",
   "metadata": {},
   "source": [
    "1. Trend slopes of sleep and study hours for all of the months"
   ]
  },
  {
   "cell_type": "code",
   "execution_count": null,
   "metadata": {},
   "outputs": [],
   "source": [
    "import pandas as pd\n",
    "import numpy as np\n",
    "from scipy.stats import linregress\n",
    "\n",
    "# Group the data by 'StudentID'\n",
    "grouped_data = data1.groupby('UserID')\n",
    "\n",
    "# Create an empty dataframe to store the results\n",
    "result_df = pd.DataFrame(columns=['UserID', 'study_time', 'sleep'])\n",
    "\n",
    "# Iterate over each group\n",
    "for student_id, group in grouped_data:\n",
    "    # Extract the x values for linear regression\n",
    "    x = np.arange(len(group))  # Assuming time is represented by the index of the dataframe\n",
    "    \n",
    "    # Perform linear regression for each variable and calculate the trend slope\n",
    "    s1 = linregress(x, group['STUDY1']).slope\n",
    "    s2 = linregress(x, group['hours_slept']).slope\n",
    "\n",
    "\n",
    "    \n",
    "    # Append the result to the result dataframe\n",
    "    result_df = result_df.append({'UserID': student_id,\n",
    "                                  'study_time': s1,\n",
    "                                  'sleep': s2,},\n",
    "                                    ignore_index=True)"
   ]
  },
  {
   "cell_type": "code",
   "execution_count": null,
   "metadata": {},
   "outputs": [],
   "source": [
    "#save the results\n",
    "result_df.to_csv(r'new_removed_tables\\sleep_study_trens_slopes_all_months.csv')"
   ]
  },
  {
   "attachments": {},
   "cell_type": "markdown",
   "metadata": {},
   "source": [
    "2. Trend slopes of sleep and study hours for months January-March and April-June"
   ]
  },
  {
   "cell_type": "code",
   "execution_count": null,
   "metadata": {},
   "outputs": [],
   "source": [
    "#trend slopes before and after the exams\n",
    "\n",
    "from scipy.stats import linregress\n",
    "\n",
    "# Create the first sample from the beginning month to the end of the third month\n",
    "sample1 = data1[data1['month'].isin([1, 2, 3])]\n",
    "\n",
    "# Create the second sample from the beginning of the fourth month to the end of the sixth month\n",
    "sample2 = data1[data1['month'].isin([4, 5, 6])]\n",
    "\n",
    "# Group the data by 'UserID' in each sample\n",
    "grouped_data1 = sample1.groupby('UserID')\n",
    "grouped_data2 = sample2.groupby('UserID')\n",
    "\n",
    "# Create empty dataframes to store the results for each sample\n",
    "result_df1 = pd.DataFrame(columns=['StudentID', 'sleep_slope_march', 'study_slope_march'])\n",
    "result_df2 = pd.DataFrame(columns=['StudentID', 'sleep_slope_june', 'study_slope_june'])\n",
    "\n",
    "# Iterate over each group in sample 1\n",
    "for student_id, group in grouped_data1:\n",
    "    # Extract the x values for linear regression\n",
    "    x = np.arange(len(group))  # Assuming time is represented by the index of the dataframe\n",
    "    \n",
    "    # Perform linear regression for each variable and calculate the trend slope\n",
    "    s1 = linregress(x, group['hours_slept']).slope\n",
    "    s2 = linregress(x, group['STUDY1']).slope\n",
    "\n",
    "    \n",
    "    # Append the result to the result dataframe for sample 1\n",
    "    result_df1 = result_df1.append({'StudentID': student_id,'sleep_slope_march': s1, 'study_slope_march': s2 }, ignore_index=True)\n",
    "\n",
    "# Iterate over each group in sample 2\n",
    "for student_id, group in grouped_data2:\n",
    "    # Extract the x values for linear regression\n",
    "    x = np.arange(len(group))  # Assuming time is represented by the index of the dataframe\n",
    "    \n",
    "    # Perform linear regression for each variable and calculate the trend slope\n",
    "    s3 = linregress(x, group['hours_slept']).slope\n",
    "    s4 = linregress(x, group['STUDY1']).slope\n",
    "\n",
    "\n",
    "    result_df2 = result_df2.append({'StudentID': student_id,\n",
    "                                    'sleep_slope_june': s3,'study_slope_june': s4 }, ignore_index=True)"
   ]
  },
  {
   "cell_type": "code",
   "execution_count": null,
   "metadata": {},
   "outputs": [],
   "source": [
    "#save results\n",
    "esult_df1.to_csv(r'new_removed_tables\\sleep_study_trens_slopes_march.csv')\n",
    "result_df2.to_csv(r'new_removed_tables\\sleep_study_trens_slopes_june.csv')"
   ]
  },
  {
   "attachments": {},
   "cell_type": "markdown",
   "metadata": {},
   "source": [
    "3. Average hours of sleep per month"
   ]
  },
  {
   "cell_type": "code",
   "execution_count": null,
   "metadata": {},
   "outputs": [],
   "source": [
    "\n",
    "#aggregatee data monthly\n",
    "grouped = data1.groupby(['UserID', pd.Grouper(key='Date', freq='M')]).apply(np.mean)"
   ]
  },
  {
   "cell_type": "code",
   "execution_count": null,
   "metadata": {},
   "outputs": [],
   "source": [
    "#create a dataframe\n",
    "df_new = pd.DataFrame(grouped)"
   ]
  },
  {
   "cell_type": "code",
   "execution_count": null,
   "metadata": {},
   "outputs": [],
   "source": [
    "#flatten the table\n",
    "df_new.reset_index(inplace=True)"
   ]
  },
  {
   "cell_type": "code",
   "execution_count": null,
   "metadata": {},
   "outputs": [],
   "source": [
    "#pivot tables\n",
    "\n",
    "month_order = ['January', 'February', 'March', 'April', 'May', 'June', 'July', 'August', 'September', 'October', 'November', 'December']\n",
    "\n",
    "df_new = pd.pivot_table(df_new, values=df_new.columns, index=df_new['UserID'], columns=['month'])"
   ]
  },
  {
   "cell_type": "code",
   "execution_count": null,
   "metadata": {},
   "outputs": [],
   "source": [
    "df_new = df_new.reindex(month_order, axis=1, level=1)"
   ]
  },
  {
   "cell_type": "code",
   "execution_count": null,
   "metadata": {},
   "outputs": [],
   "source": [
    "#flatten the pivoted table\n",
    "\n",
    "\n",
    "new_columns = [f\"{top_col} {sub_col}\" for top_col, sub_col in df_new.columns]"
   ]
  },
  {
   "cell_type": "code",
   "execution_count": null,
   "metadata": {},
   "outputs": [],
   "source": [
    "df_new.columns = new_columns\n",
    "df_new.reset_index(inplace=True)"
   ]
  },
  {
   "cell_type": "code",
   "execution_count": null,
   "metadata": {},
   "outputs": [],
   "source": [
    "#save table\n",
    "\n",
    "df_new.to_csv(r'new_removed_tables\\sleep_study.csv')"
   ]
  }
 ],
 "metadata": {
  "language_info": {
   "name": "python"
  },
  "orig_nbformat": 4
 },
 "nbformat": 4,
 "nbformat_minor": 2
}
