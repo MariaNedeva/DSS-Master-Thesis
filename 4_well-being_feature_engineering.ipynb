{
 "cells": [
  {
   "cell_type": "code",
   "execution_count": null,
   "metadata": {},
   "outputs": [],
   "source": [
    "#import libraries\n",
    "import pandas as pd\n",
    "import numpy as np"
   ]
  },
  {
   "cell_type": "code",
   "execution_count": null,
   "metadata": {},
   "outputs": [],
   "source": [
    "#load the data\n",
    "data = pd.read_csv(r'well-being dataset\\well-being-imputed.csv')"
   ]
  },
  {
   "attachments": {},
   "cell_type": "markdown",
   "metadata": {},
   "source": [
    "Feature engineering"
   ]
  },
  {
   "attachments": {},
   "cell_type": "markdown",
   "metadata": {},
   "source": [
    "1. Trend slopes for all the months"
   ]
  },
  {
   "cell_type": "code",
   "execution_count": null,
   "metadata": {},
   "outputs": [],
   "source": [
    "#TREND SLOPE FOR ALL THE COLUMNS IN THE STUDY\n",
    "\n",
    "import pandas as pd\n",
    "import numpy as np\n",
    "from scipy.stats import linregress\n",
    "\n",
    "#group the data by 'StudentID'\n",
    "grouped_data = data.groupby('UserID')\n",
    "\n",
    "#create an empty dataframe to store the results\n",
    "result_df = pd.DataFrame(columns=['UserID', 'rushed', 'relaxed', 'stressed', 'energy', 'proactivness', 'concentration', 'delay', 'timewaste', 'procrastination', 'happy'])\n",
    "\n",
    "# iterate over each group\n",
    "for student_id, group in grouped_data:\n",
    "    # Extract the x values for linear regression\n",
    "    x = np.arange(len(group))  \n",
    "    \n",
    "    #perform linear regression for each variable and calculate the trend slope\n",
    "    s1 = linregress(x, group['S1']).slope\n",
    "    s2 = linregress(x, group['S2']).slope\n",
    "    s3 = linregress(x, group['S3']).slope\n",
    "    f1 = linregress(x, group['F1']).slope\n",
    "    f2 = linregress(x, group['F2']).slope\n",
    "    f3 = linregress(x, group['F3']).slope\n",
    "    p1 = linregress(x, group['P1']).slope\n",
    "    p2 = linregress(x, group['P2']).slope\n",
    "    p3 = linregress(x, group['P3']).slope\n",
    "    h1 = linregress(x, group['H1']).slope\n",
    "\n",
    "    \n",
    "    #append the result to the result dataframe\n",
    "    result_df = result_df.append({'UserID': student_id,\n",
    "                                  'rushed': s1,\n",
    "                                  'relaxed': s2,\n",
    "                                  'stressed': s3,\n",
    "                                  'energy': f1,\n",
    "                                  'proactivness': f2,\n",
    "                                  'concentration': f3,\n",
    "                                  'delay': p1,\n",
    "                                  'timewaste': p2,\n",
    "                                  'procrastination': p3,\n",
    "                                  'happy': h1},\n",
    "                                    ignore_index=True)"
   ]
  },
  {
   "cell_type": "code",
   "execution_count": null,
   "metadata": {},
   "outputs": [],
   "source": [
    "#save results\n",
    "result_df.to_csv(r'new_removed_tables\\well-being_slopes_all_months.csv')"
   ]
  },
  {
   "attachments": {},
   "cell_type": "markdown",
   "metadata": {},
   "source": [
    "2. Trend Slopes for months drom January to March, and for months from April to May"
   ]
  },
  {
   "cell_type": "code",
   "execution_count": null,
   "metadata": {},
   "outputs": [],
   "source": [
    "#create two tables: one for the period of january-march and second for april-june; march and june are exam months\n",
    "\n",
    "import pandas as pd\n",
    "import numpy as np\n",
    "from scipy.stats import linregress\n",
    "\n",
    "#create the first sample from the beginning month to the end of the third month\n",
    "sample1 = data1[data1['month'].isin([1, 2, 3])]\n",
    "\n",
    "#create the second sample from the beginning of the fourth month to the end of the sixth month\n",
    "sample2 = data1[data1['month'].isin([4, 5, 6])]\n",
    "\n",
    "#group the data by 'UserID' in each sample\n",
    "grouped_data1 = sample1.groupby('UserID')\n",
    "grouped_data2 = sample2.groupby('UserID')\n",
    "\n",
    "#create empty dataframes to store the results for each sample\n",
    "result_df1 = pd.DataFrame(columns=['UserID', 'rushed_1', 'relaxed_1', 'stressed_1', 'energy_1', 'proactivness_1', 'concentration_1', 'delay_1', 'timewaste_1', 'procrastination_1', 'happy_1'])\n",
    "result_df2 = pd.DataFrame(columns=['UserID', 'rushed_2', 'relaxed_2', 'stressed_2', 'energy_2', 'proactivness_2', 'concentration_2', 'delay_2', 'timewaste_2', 'procrastination_2', 'happy_2'])\n",
    "\n",
    "#iterate over each group in sample 1\n",
    "for student_id, group in grouped_data1:\n",
    "    #extract the x values for linear regression\n",
    "    x = np.arange(len(group))  \n",
    "    \n",
    "    #perform linear regression for each variable and calculate the trend slope\n",
    "    s1 = linregress(x, group['S1']).slope\n",
    "    s2 = linregress(x, group['S2']).slope\n",
    "    s3 = linregress(x, group['S3']).slope\n",
    "    f1 = linregress(x, group['F1']).slope\n",
    "    f2 = linregress(x, group['F2']).slope\n",
    "    f3 = linregress(x, group['F3']).slope\n",
    "    p1 = linregress(x, group['P1']).slope\n",
    "    p2 = linregress(x, group['P2']).slope\n",
    "    p3 = linregress(x, group['P3']).slope\n",
    "    h1 = linregress(x, group['H1']).slope\n",
    "    \n",
    "    #append the result to the result dataframe for sample 1\n",
    "    result_df1 = result_df1.append({'UserID': student_id,\n",
    "                                    'rushed_1': s1,\n",
    "                                    'relaxed_1': s2,\n",
    "                                    'stressed_1': s3,\n",
    "                                    'energy_1': f1,\n",
    "                                    'proactivness_1': f2,\n",
    "                                    'concentration_1': f3,\n",
    "                                    'delay_1': p1,\n",
    "                                    'timewaste_1': p2,\n",
    "                                    'procrastination_1': p3,\n",
    "                                    'happy_1': h1},\n",
    "                                   ignore_index=True)\n",
    "\n",
    "#iterate over each group in sample 2\n",
    "for student_id, group in grouped_data2:\n",
    "    #extract the x values for linear regression\n",
    "    x = np.arange(len(group)) \n",
    "    \n",
    "    #perform linear regression for each variable and calculate the trend slope\n",
    "    s1 = linregress(x, group['S1']).slope\n",
    "    s2 = linregress(x, group['S2']).slope\n",
    "    s3 = linregress(x, group['S3']).slope\n",
    "    f1 = linregress(x, group['F1']).slope\n",
    "    f2 = linregress(x, group['F2']).slope\n",
    "    f3 = linregress(x, group['F3']).slope\n",
    "    p1 = linregress(x, group['P1']).slope\n",
    "    p2 = linregress(x, group['P2']).slope\n",
    "    p3 = linregress(x, group['P3']).slope\n",
    "    h1 = linregress(x, group['H1']).slope\n",
    "\n",
    "    result_df2 = result_df2.append({'UserID': student_id,\n",
    "                                    'rushed_2': s1,\n",
    "                                    'relaxed_2': s2,\n",
    "                                    'stressed_2': s3,\n",
    "                                    'energy_2': f1,\n",
    "                                    'proactivness_2': f2,\n",
    "                                    'concentration_2': f3,\n",
    "                                    'delay_2': p1,\n",
    "                                    'timewaste_2': p2,\n",
    "                                    'procrastination_2': p3,\n",
    "                                    'happy_2': h1},\n",
    "                                   ignore_index=True)\n",
    "\n",
    "    \n"
   ]
  },
  {
   "cell_type": "code",
   "execution_count": null,
   "metadata": {},
   "outputs": [],
   "source": [
    "#save results\n",
    "result_df1.to_csv(r'new_removed_tables\\well-being_trends_bf_march.csv')\n",
    "result_df2.to_csv(r'new_removed_tables\\well-being_trends_bf_june.csv')"
   ]
  },
  {
   "cell_type": "code",
   "execution_count": null,
   "metadata": {},
   "outputs": [],
   "source": [
    "#concatenate the three slopes tables\n",
    "result_df.set_index('UserID', inplace=True)\n",
    "result_df1.set_index('UserID', inplace=True)\n",
    "result_df2.set_index('UserID', inplace=True)\n"
   ]
  },
  {
   "cell_type": "code",
   "execution_count": null,
   "metadata": {},
   "outputs": [],
   "source": [
    "#combine the two results tables\n",
    "results = result_df1.merge(result_df2, left_index=True, right_index=True, how='left')\n",
    "\n",
    "#append the grade column\n",
    "results = results.merge(result_df, left_index=True, right_index=True, how='left')\n"
   ]
  },
  {
   "cell_type": "code",
   "execution_count": null,
   "metadata": {},
   "outputs": [],
   "source": [
    "#save the concatenated table\n",
    "results.to_csv(r'new_removed_tables\\well-being_2_slopes_all_ANALYSIS.csv')"
   ]
  }
 ],
 "metadata": {
  "language_info": {
   "name": "python"
  },
  "orig_nbformat": 4
 },
 "nbformat": 4,
 "nbformat_minor": 2
}
